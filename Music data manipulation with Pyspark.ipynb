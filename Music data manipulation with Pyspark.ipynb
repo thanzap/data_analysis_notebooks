{
 "cells": [
  {
   "cell_type": "markdown",
   "metadata": {
    "id": "jPyDpDqvZuLo"
   },
   "source": [
    "# **Welcome to the Notebook**"
   ]
  },
  {
   "cell_type": "markdown",
   "metadata": {
    "id": "cs9EInKyWicZ"
   },
   "source": [
    "#  Installing pyspark module"
   ]
  },
  {
   "cell_type": "code",
   "execution_count": 4,
   "metadata": {
    "colab": {
     "base_uri": "https://localhost:8080/"
    },
    "executionInfo": {
     "elapsed": 41450,
     "status": "ok",
     "timestamp": 1627927912977,
     "user": {
      "displayName": "Thanasis Zapatetas",
      "photoUrl": "",
      "userId": "05314804125831988087"
     },
     "user_tz": 0
    },
    "id": "LJq2nzUKWujx",
    "outputId": "f64dc4e5-c5b0-49bd-94ba-a5f0dc6c6ddc"
   },
   "outputs": [
    {
     "name": "stdout",
     "output_type": "stream",
     "text": [
      "Collecting pyspark\n",
      "  Downloading pyspark-3.1.2.tar.gz (212.4 MB)\n",
      "\u001b[K     |████████████████████████████████| 212.4 MB 63 kB/s \n",
      "\u001b[?25hCollecting py4j==0.10.9\n",
      "  Downloading py4j-0.10.9-py2.py3-none-any.whl (198 kB)\n",
      "\u001b[K     |████████████████████████████████| 198 kB 47.4 MB/s \n",
      "\u001b[?25hBuilding wheels for collected packages: pyspark\n",
      "  Building wheel for pyspark (setup.py) ... \u001b[?25l\u001b[?25hdone\n",
      "  Created wheel for pyspark: filename=pyspark-3.1.2-py2.py3-none-any.whl size=212880768 sha256=d805b9a267c75e791c472423cf390a9025a3a91baae4286473347ef33721a180\n",
      "  Stored in directory: /root/.cache/pip/wheels/a5/0a/c1/9561f6fecb759579a7d863dcd846daaa95f598744e71b02c77\n",
      "Successfully built pyspark\n",
      "Installing collected packages: py4j, pyspark\n",
      "Successfully installed py4j-0.10.9 pyspark-3.1.2\n"
     ]
    }
   ],
   "source": [
    "!pip install pyspark"
   ]
  },
  {
   "cell_type": "markdown",
   "metadata": {
    "id": "dVNAlw2jWiWb"
   },
   "source": [
    "Importing the modules "
   ]
  },
  {
   "cell_type": "code",
   "execution_count": 5,
   "metadata": {
    "executionInfo": {
     "elapsed": 109,
     "status": "ok",
     "timestamp": 1627927913333,
     "user": {
      "displayName": "Thanasis Zapatetas",
      "photoUrl": "",
      "userId": "05314804125831988087"
     },
     "user_tz": 0
    },
    "id": "gS3YIWJiW7I3"
   },
   "outputs": [],
   "source": [
    "from pyspark.sql import SparkSession\n",
    "from pyspark.sql.functions import count, desc , col, max , struct\n",
    "import matplotlib.pyplot as plts"
   ]
  },
  {
   "cell_type": "markdown",
   "metadata": {
    "id": "RKuIUYLwSkNP"
   },
   "source": [
    "creating spark session"
   ]
  },
  {
   "cell_type": "code",
   "execution_count": 6,
   "metadata": {
    "cellView": "both",
    "executionInfo": {
     "elapsed": 7999,
     "status": "ok",
     "timestamp": 1627927921329,
     "user": {
      "displayName": "Thanasis Zapatetas",
      "photoUrl": "",
      "userId": "05314804125831988087"
     },
     "user_tz": 0
    },
    "id": "XXSZBvRgSnCN"
   },
   "outputs": [],
   "source": [
    "spark = SparkSession.builder.appName('spark_app').getOrCreate()"
   ]
  },
  {
   "cell_type": "markdown",
   "metadata": {
    "id": "vv_SKqr8T9mT"
   },
   "source": [
    "### importing the *Listenings.csv* file: "
   ]
  },
  {
   "cell_type": "code",
   "execution_count": 1,
   "metadata": {
    "colab": {
     "base_uri": "https://localhost:8080/",
     "height": 340
    },
    "executionInfo": {
     "elapsed": 183,
     "status": "error",
     "timestamp": 1627927935648,
     "user": {
      "displayName": "Thanasis Zapatetas",
      "photoUrl": "",
      "userId": "05314804125831988087"
     },
     "user_tz": 0
    },
    "id": "gK22lJDRTuKY",
    "outputId": "c03a0f60-2c03-4a95-e4df-e1ac131664a9"
   },
   "outputs": [
    {
     "ename": "NameError",
     "evalue": "name 'spark' is not defined",
     "output_type": "error",
     "traceback": [
      "\u001b[1;31m---------------------------------------------------------------------------\u001b[0m",
      "\u001b[1;31mNameError\u001b[0m                                 Traceback (most recent call last)",
      "\u001b[1;32m<ipython-input-1-529a1c747d21>\u001b[0m in \u001b[0;36m<module>\u001b[1;34m\u001b[0m\n\u001b[0;32m      1\u001b[0m \u001b[0mlistening_csv_path\u001b[0m\u001b[1;33m=\u001b[0m \u001b[1;34m'dataset/listenings.csv'\u001b[0m\u001b[1;33m\u001b[0m\u001b[1;33m\u001b[0m\u001b[0m\n\u001b[1;32m----> 2\u001b[1;33m \u001b[0mlistening_df\u001b[0m\u001b[1;33m=\u001b[0m \u001b[0mspark\u001b[0m\u001b[1;33m.\u001b[0m\u001b[0mread\u001b[0m\u001b[1;33m.\u001b[0m\u001b[0mformat\u001b[0m\u001b[1;33m(\u001b[0m\u001b[1;34m'csv'\u001b[0m\u001b[1;33m)\u001b[0m\u001b[1;33m.\u001b[0m\u001b[0moption\u001b[0m\u001b[1;33m(\u001b[0m\u001b[1;34m'inferSchema'\u001b[0m\u001b[1;33m,\u001b[0m\u001b[1;32mTrue\u001b[0m\u001b[1;33m)\u001b[0m\u001b[1;33m.\u001b[0m\u001b[0moption\u001b[0m\u001b[1;33m(\u001b[0m\u001b[1;34m'header'\u001b[0m\u001b[1;33m,\u001b[0m\u001b[1;32mTrue\u001b[0m\u001b[1;33m)\u001b[0m\u001b[1;33m.\u001b[0m\u001b[0mload\u001b[0m\u001b[1;33m(\u001b[0m\u001b[0mlistening_csv_path\u001b[0m\u001b[1;33m)\u001b[0m\u001b[1;33m\u001b[0m\u001b[1;33m\u001b[0m\u001b[0m\n\u001b[0m",
      "\u001b[1;31mNameError\u001b[0m: name 'spark' is not defined"
     ]
    }
   ],
   "source": [
    "listening_csv_path= 'dataset/listenings.csv'\n",
    "listening_df= spark.read.format('csv').option('inferSchema',True).option('header',True).load(listening_csv_path)"
   ]
  },
  {
   "cell_type": "markdown",
   "metadata": {
    "id": "s1i6KVshykdn"
   },
   "source": [
    "let's check the data:"
   ]
  },
  {
   "cell_type": "code",
   "execution_count": null,
   "metadata": {
    "executionInfo": {
     "elapsed": 199,
     "status": "aborted",
     "timestamp": 1627927921873,
     "user": {
      "displayName": "Thanasis Zapatetas",
      "photoUrl": "",
      "userId": "05314804125831988087"
     },
     "user_tz": 0
    },
    "id": "5Ji0zViUyjUE"
   },
   "outputs": [],
   "source": [
    "listening_df.show()"
   ]
  },
  {
   "cell_type": "markdown",
   "metadata": {
    "id": "HS6wd2d_woNC"
   },
   "source": [
    "let's delete useless columns:"
   ]
  },
  {
   "cell_type": "code",
   "execution_count": null,
   "metadata": {
    "executionInfo": {
     "elapsed": 201,
     "status": "aborted",
     "timestamp": 1627927921876,
     "user": {
      "displayName": "Thanasis Zapatetas",
      "photoUrl": "",
      "userId": "05314804125831988087"
     },
     "user_tz": 0
    },
    "id": "pIMzBAglwtNP"
   },
   "outputs": [],
   "source": [
    "listening_df=listening_df.drop('date')"
   ]
  },
  {
   "cell_type": "markdown",
   "metadata": {
    "id": "MwpJJeWa4qmn"
   },
   "source": [
    "drop the null rows:"
   ]
  },
  {
   "cell_type": "code",
   "execution_count": null,
   "metadata": {
    "executionInfo": {
     "elapsed": 202,
     "status": "aborted",
     "timestamp": 1627927921877,
     "user": {
      "displayName": "Thanasis Zapatetas",
      "photoUrl": "",
      "userId": "05314804125831988087"
     },
     "user_tz": 0
    },
    "id": "Botf6-Vb4uqs"
   },
   "outputs": [],
   "source": [
    "listening_df= listening_df.na.drop()"
   ]
  },
  {
   "cell_type": "markdown",
   "metadata": {
    "id": "tTN6jr3K4xkF"
   },
   "source": [
    "let's check the dataset again:"
   ]
  },
  {
   "cell_type": "code",
   "execution_count": null,
   "metadata": {
    "executionInfo": {
     "elapsed": 161,
     "status": "aborted",
     "timestamp": 1627927744057,
     "user": {
      "displayName": "Thanasis Zapatetas",
      "photoUrl": "",
      "userId": "05314804125831988087"
     },
     "user_tz": 0
    },
    "id": "JDp_rdEY40u3"
   },
   "outputs": [],
   "source": [
    "listening_df.show()"
   ]
  },
  {
   "cell_type": "markdown",
   "metadata": {
    "id": "Z7nKCYoZltnv"
   },
   "source": [
    "let's see the schema: "
   ]
  },
  {
   "cell_type": "code",
   "execution_count": null,
   "metadata": {
    "executionInfo": {
     "elapsed": 204,
     "status": "aborted",
     "timestamp": 1627927921879,
     "user": {
      "displayName": "Thanasis Zapatetas",
      "photoUrl": "",
      "userId": "05314804125831988087"
     },
     "user_tz": 0
    },
    "id": "qVg1jt1OyWdh"
   },
   "outputs": [],
   "source": [
    "listening_df.printSchema()"
   ]
  },
  {
   "cell_type": "markdown",
   "metadata": {
    "id": "JMkQsQt2xSb5"
   },
   "source": [
    "let's see the shape of our dataframe: "
   ]
  },
  {
   "cell_type": "code",
   "execution_count": null,
   "metadata": {
    "executionInfo": {
     "elapsed": 204,
     "status": "aborted",
     "timestamp": 1627927921880,
     "user": {
      "displayName": "Thanasis Zapatetas",
      "photoUrl": "",
      "userId": "05314804125831988087"
     },
     "user_tz": 0
    },
    "id": "6POkV3YFmh6b"
   },
   "outputs": [],
   "source": [
    "shape=(listening_df.count(),len(listening_df.columns))\n",
    "print(shape)"
   ]
  },
  {
   "cell_type": "markdown",
   "metadata": {
    "id": "XMD0DhFl2FEJ"
   },
   "source": [
    "### select two columns: track and artist"
   ]
  },
  {
   "cell_type": "code",
   "execution_count": null,
   "metadata": {
    "executionInfo": {
     "elapsed": 165,
     "status": "aborted",
     "timestamp": 1627927744062,
     "user": {
      "displayName": "Thanasis Zapatetas",
      "photoUrl": "",
      "userId": "05314804125831988087"
     },
     "user_tz": 0
    },
    "id": "FZTdA5wn2TZy"
   },
   "outputs": [],
   "source": [
    "q0=listening_df.select('artist','track')\n",
    "q0.show()"
   ]
  },
  {
   "cell_type": "markdown",
   "metadata": {
    "id": "QRcgXOFs2hjw"
   },
   "source": [
    "**Query #1**:\n",
    "\n",
    "Let's find all of the records of those users who have listened to ***Rihanna***"
   ]
  },
  {
   "cell_type": "code",
   "execution_count": null,
   "metadata": {
    "executionInfo": {
     "elapsed": 165,
     "status": "aborted",
     "timestamp": 1627927744062,
     "user": {
      "displayName": "Thanasis Zapatetas",
      "photoUrl": "",
      "userId": "05314804125831988087"
     },
     "user_tz": 0
    },
    "id": "ICyiTMVnppLw"
   },
   "outputs": [],
   "source": [
    "q1=listening_df.select('*').filter(listening_df.artist=='Rihanna')\n",
    "q1.show()"
   ]
  },
  {
   "cell_type": "markdown",
   "metadata": {
    "id": "I0IafeyvFU9O"
   },
   "source": [
    "**Query #2:**\n",
    "\n",
    "Let's find top 10 users who are fan of ***Rihanna***"
   ]
  },
  {
   "cell_type": "code",
   "execution_count": null,
   "metadata": {
    "executionInfo": {
     "elapsed": 166,
     "status": "aborted",
     "timestamp": 1627927744063,
     "user": {
      "displayName": "Thanasis Zapatetas",
      "photoUrl": "",
      "userId": "05314804125831988087"
     },
     "user_tz": 0
    },
    "id": "3-hM9kMm7JmI"
   },
   "outputs": [],
   "source": [
    "q2=listening_df.select('user_id').filter(listening_df.artist=='Rihanna').groupby('user_id').agg(count('user_id').alias('count')).orderBy(desc('count')).limit(10)\n",
    "q2.show()"
   ]
  },
  {
   "cell_type": "markdown",
   "metadata": {
    "id": "hgAAl6aAcp41"
   },
   "source": [
    "**Query #3:**\n",
    "\n",
    "find top 10 famous tracks "
   ]
  },
  {
   "cell_type": "code",
   "execution_count": null,
   "metadata": {
    "executionInfo": {
     "elapsed": 166,
     "status": "aborted",
     "timestamp": 1627927744064,
     "user": {
      "displayName": "Thanasis Zapatetas",
      "photoUrl": "",
      "userId": "05314804125831988087"
     },
     "user_tz": 0
    },
    "id": "qlh3IUzfJ3_I"
   },
   "outputs": [],
   "source": [
    "q3=listening_df.select('artist','track').groupby('artist','track').agg(count('*').alias('count')).orderBy(desc('count')).limit(10)\n",
    "q3.show()"
   ]
  },
  {
   "cell_type": "markdown",
   "metadata": {
    "id": "HqhPhQvjeXt0"
   },
   "source": [
    "**Query #4:**\n",
    "\n",
    "find top 10 famous tracks of ***Rihanna*** "
   ]
  },
  {
   "cell_type": "code",
   "execution_count": null,
   "metadata": {
    "executionInfo": {
     "elapsed": 165,
     "status": "aborted",
     "timestamp": 1627927744065,
     "user": {
      "displayName": "Thanasis Zapatetas",
      "photoUrl": "",
      "userId": "05314804125831988087"
     },
     "user_tz": 0
    },
    "id": "D_npmdh1ec8y"
   },
   "outputs": [],
   "source": [
    "q4=listening_df.select('artist','track').filter(listening_df.artist=='Rihanna').groupby('artist','track').agg(count('*').alias('count')).orderBy(desc('count')).limit(10)\n",
    "q4.show()"
   ]
  },
  {
   "cell_type": "markdown",
   "metadata": {
    "id": "E6pgcH0p1ZXo"
   },
   "source": [
    "**Query #5:**\n",
    "\n",
    "find top 10 famous albums "
   ]
  },
  {
   "cell_type": "code",
   "execution_count": null,
   "metadata": {
    "executionInfo": {
     "elapsed": 165,
     "status": "aborted",
     "timestamp": 1627927744065,
     "user": {
      "displayName": "Thanasis Zapatetas",
      "photoUrl": "",
      "userId": "05314804125831988087"
     },
     "user_tz": 0
    },
    "id": "c5YHm6yKenE7"
   },
   "outputs": [],
   "source": [
    "q5=listening_df.select('artist','album').groupby('artist','album').agg(count('*').alias('count')).orderBy(desc('count')).limit(10)\n",
    "q5.show()"
   ]
  },
  {
   "cell_type": "markdown",
   "metadata": {
    "id": "YXev8HQ57bdq"
   },
   "source": [
    "### importing the ***genre.csv*** file:"
   ]
  },
  {
   "cell_type": "code",
   "execution_count": null,
   "metadata": {
    "executionInfo": {
     "elapsed": 173,
     "status": "aborted",
     "timestamp": 1627927744074,
     "user": {
      "displayName": "Thanasis Zapatetas",
      "photoUrl": "",
      "userId": "05314804125831988087"
     },
     "user_tz": 0
    },
    "id": "tpXSrYfu14PB"
   },
   "outputs": [],
   "source": [
    "genre_csv_path='/content/drive/MyDrive/dataset/genre.csv'\n",
    "genre_df = spark.read.format('csv').option('inferSchema',True).option('header',True).load(genre_csv_path)"
   ]
  },
  {
   "cell_type": "markdown",
   "metadata": {
    "id": "aCHSo36W9RcP"
   },
   "source": [
    "let's check the data"
   ]
  },
  {
   "cell_type": "code",
   "execution_count": null,
   "metadata": {
    "executionInfo": {
     "elapsed": 37,
     "status": "aborted",
     "timestamp": 1627927744075,
     "user": {
      "displayName": "Thanasis Zapatetas",
      "photoUrl": "",
      "userId": "05314804125831988087"
     },
     "user_tz": 0
    },
    "id": "LJu4Ouz89O6_"
   },
   "outputs": [],
   "source": [
    "genre_df.show()"
   ]
  },
  {
   "cell_type": "markdown",
   "metadata": {
    "id": "72OpWX7F98qg"
   },
   "source": [
    "Let's inner join these two data frames"
   ]
  },
  {
   "cell_type": "code",
   "execution_count": 3,
   "metadata": {
    "colab": {
     "base_uri": "https://localhost:8080/",
     "height": 180
    },
    "executionInfo": {
     "elapsed": 91,
     "status": "error",
     "timestamp": 1627927753161,
     "user": {
      "displayName": "Thanasis Zapatetas",
      "photoUrl": "",
      "userId": "05314804125831988087"
     },
     "user_tz": 0
    },
    "id": "DRLEIqBGdFts",
    "outputId": "df6944eb-8c2c-4daa-ad13-4c8791369645"
   },
   "outputs": [
    {
     "ename": "NameError",
     "evalue": "ignored",
     "output_type": "error",
     "traceback": [
      "\u001b[0;31m---------------------------------------------------------------------------\u001b[0m",
      "\u001b[0;31mNameError\u001b[0m                                 Traceback (most recent call last)",
      "\u001b[0;32m<ipython-input-3-cc91ebda687a>\u001b[0m in \u001b[0;36m<module>\u001b[0;34m()\u001b[0m\n\u001b[0;32m----> 1\u001b[0;31m \u001b[0mdata\u001b[0m\u001b[0;34m=\u001b[0m\u001b[0mlistening_df\u001b[0m\u001b[0;34m.\u001b[0m\u001b[0mjoin\u001b[0m\u001b[0;34m(\u001b[0m\u001b[0mgenre_df\u001b[0m\u001b[0;34m,\u001b[0m\u001b[0mhow\u001b[0m\u001b[0;34m=\u001b[0m\u001b[0;34m\"inner\"\u001b[0m\u001b[0;34m,\u001b[0m\u001b[0mon\u001b[0m\u001b[0;34m=\u001b[0m\u001b[0;34m[\u001b[0m\u001b[0;34m'artist'\u001b[0m\u001b[0;34m]\u001b[0m\u001b[0;34m)\u001b[0m\u001b[0;34m\u001b[0m\u001b[0;34m\u001b[0m\u001b[0m\n\u001b[0m\u001b[1;32m      2\u001b[0m \u001b[0mdata\u001b[0m\u001b[0;34m.\u001b[0m\u001b[0mshow\u001b[0m\u001b[0;34m(\u001b[0m\u001b[0;34m)\u001b[0m\u001b[0;34m\u001b[0m\u001b[0;34m\u001b[0m\u001b[0m\n",
      "\u001b[0;31mNameError\u001b[0m: name 'listening_df' is not defined"
     ]
    }
   ],
   "source": [
    "data=listening_df.join(genre_df,how=\"inner\",on=['artist'])\n",
    "data.show()"
   ]
  },
  {
   "cell_type": "markdown",
   "metadata": {
    "id": "yM_f5qILBNeI"
   },
   "source": [
    "**Query #6**\n",
    "\n",
    "find top 10 users who are fan of ***pop*** music"
   ]
  },
  {
   "cell_type": "code",
   "execution_count": null,
   "metadata": {
    "executionInfo": {
     "elapsed": 37,
     "status": "aborted",
     "timestamp": 1627927744076,
     "user": {
      "displayName": "Thanasis Zapatetas",
      "photoUrl": "",
      "userId": "05314804125831988087"
     },
     "user_tz": 0
    },
    "id": "dognQVlxBi2n"
   },
   "outputs": [],
   "source": [
    "q6=data.select('user_id').filter(data.genre=='pop').groupby('user_id').agg(count('*').alias('count')).orderBy(desc('count')).limit(10)\n",
    "q6.show()"
   ]
  },
  {
   "cell_type": "markdown",
   "metadata": {
    "id": "63quzy7t-zb7"
   },
   "source": [
    "**Query #7**\n",
    "\n",
    "find top 10 famous genres"
   ]
  },
  {
   "cell_type": "code",
   "execution_count": null,
   "metadata": {
    "executionInfo": {
     "elapsed": 37,
     "status": "aborted",
     "timestamp": 1627927744076,
     "user": {
      "displayName": "Thanasis Zapatetas",
      "photoUrl": "",
      "userId": "05314804125831988087"
     },
     "user_tz": 0
    },
    "id": "aDFcoPPk-Rhf"
   },
   "outputs": [],
   "source": [
    "q7=data.select('genre').groupby('genre').agg(count('*').alias('count')).orderBy(desc('count')).limit(10)\n",
    "\n",
    "q7.show()"
   ]
  },
  {
   "cell_type": "markdown",
   "metadata": {
    "id": "hrZOAWVgLMZo"
   },
   "source": [
    "### **Query #8**\n",
    "\n",
    "find out each user favourite genre"
   ]
  },
  {
   "cell_type": "code",
   "execution_count": null,
   "metadata": {
    "executionInfo": {
     "elapsed": 36,
     "status": "aborted",
     "timestamp": 1627927744077,
     "user": {
      "displayName": "Thanasis Zapatetas",
      "photoUrl": "",
      "userId": "05314804125831988087"
     },
     "user_tz": 0
    },
    "id": "OakANC68C1x2"
   },
   "outputs": [],
   "source": [
    "q8_1=data.select('user_id','genre').groupby('user_id','genre').agg(count('*').alias('count')).orderBy('user_id')\n",
    "q8_1.show()"
   ]
  },
  {
   "cell_type": "code",
   "execution_count": null,
   "metadata": {
    "executionInfo": {
     "elapsed": 36,
     "status": "aborted",
     "timestamp": 1627927744077,
     "user": {
      "displayName": "Thanasis Zapatetas",
      "photoUrl": "",
      "userId": "05314804125831988087"
     },
     "user_tz": 0
    },
    "id": "Soy2bMxQN-Ub"
   },
   "outputs": [],
   "source": [
    "q8_2=q8_1.groupby('user_id').agg(max(struct(col('count'),col('genre'))).alias('max')).select(col('user_id'),col('max.genre'))\n",
    "q8_2.show()"
   ]
  }
 ],
 "metadata": {
  "colab": {
   "collapsed_sections": [],
   "name": "The_Notebook.ipynb",
   "provenance": []
  },
  "kernelspec": {
   "display_name": "Python 3",
   "language": "python",
   "name": "python3"
  },
  "language_info": {
   "codemirror_mode": {
    "name": "ipython",
    "version": 3
   },
   "file_extension": ".py",
   "mimetype": "text/x-python",
   "name": "python",
   "nbconvert_exporter": "python",
   "pygments_lexer": "ipython3",
   "version": "3.8.5"
  }
 },
 "nbformat": 4,
 "nbformat_minor": 1
}
